{
 "cells": [
  {
   "cell_type": "markdown",
   "metadata": {},
   "source": [
    "# Instruction"
   ]
  },
  {
   "cell_type": "markdown",
   "metadata": {},
   "source": [
    "The City of New York, is the most populous city in the United States. It is diverse and is the financial capital of USA. It is multicultural. It provides lot of business oppourtunities and business friendly environment. It has attracted many different players into the market. It is a global hub of business and commerce. The city is a major center for banking and finance, retailing, world trade, transportation, tourism, real estate, new media, traditional media, advertising, legal services, accountancy, insurance, theater, fashion, and the arts in the United States. This also means that the market is highly competitive. As it is highly developed city so cost of doing business is also one of the highest. Thus, any new business venture or expansion needs to be analysed carefully. The insights derived from analysis will give good understanding of the business environment which help in strategically targeting the market. This will help in reduction of risk. And the Return on Investment will be reasonable."
   ]
  },
  {
   "cell_type": "markdown",
   "metadata": {},
   "source": [
    "### Business Insight"
   ]
  },
  {
   "cell_type": "markdown",
   "metadata": {},
   "source": [
    "New York is an international metropolis with all kinds of people, and people also have various preferences. Bar is an important sign that reflects the citizens' preferences. Different Bars in New York can reflect the preferences of New Yorkers.\n",
    "\n",
    "Timely change is a sign of a metropolis and an attribute preferred by citizens. In the face of the citizens' flexible preferences, it is a very commercial direction. By analyzing the preferences of citizens through the existing data, we can dig out the guidelines and suggestions for establishing a new Bar, so as to discover new business opportunities."
   ]
  },
  {
   "cell_type": "markdown",
   "metadata": {},
   "source": [
    "### Find a suitable location"
   ]
  },
  {
   "cell_type": "markdown",
   "metadata": {},
   "source": [
    "If you plan a real bar that may require higher prices for basic elements such as fresh fruit and wine delivered daily from the place of origin, you should focus on communities and shops that have already attracted regular customers. \n",
    "\n",
    "If you plan to regularly provide cheap soft bars for creative drinks at a fair price, then point to those who are looking for affordable high-traffic locations with large shopping malls and other local attractions. \n",
    "\n",
    "Therefore, it is clear that to survive in such a competitive market, strategic planning is necessary. Need to study various factors to determine location"
   ]
  },
  {
   "cell_type": "markdown",
   "metadata": {},
   "source": [
    "### Target Customer"
   ]
  },
  {
   "cell_type": "markdown",
   "metadata": {},
   "source": [
    "My client wants to open in the Manhattan area, so I only focused on the administrative area during the analysis. The purpose is to determine and recommend to management which community in New York City will be the best choice for opening a restaurant. Management also wants to understand the reasons for the recommendations."
   ]
  },
  {
   "cell_type": "markdown",
   "metadata": {},
   "source": []
  }
 ],
 "metadata": {
  "kernelspec": {
   "display_name": "Python 3",
   "language": "python",
   "name": "python3"
  },
  "language_info": {
   "codemirror_mode": {
    "name": "ipython",
    "version": 3
   },
   "file_extension": ".py",
   "mimetype": "text/x-python",
   "name": "python",
   "nbconvert_exporter": "python",
   "pygments_lexer": "ipython3",
   "version": "3.7.6"
  }
 },
 "nbformat": 4,
 "nbformat_minor": 4
}
